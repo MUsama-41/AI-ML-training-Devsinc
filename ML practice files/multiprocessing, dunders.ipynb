{
 "cells": [
  {
   "cell_type": "markdown",
   "metadata": {},
   "source": [
    "Multi Processing in python"
   ]
  },
  {
   "cell_type": "code",
   "execution_count": 33,
   "metadata": {},
   "outputs": [
    {
     "name": "stdout",
     "output_type": "stream",
     "text": [
      "4\n",
      "16\n",
      "36\n"
     ]
    }
   ],
   "source": [
    "from multiprocessing import Process, Queue, Value\n",
    "\n",
    "def func(numbers, q):\n",
    "    for i in numbers:\n",
    "        q.put(i * i)\n",
    "\n",
    "if __name__ == \"__main__\":\n",
    "    num = [2, 4, 6]\n",
    "    q = Queue()\n",
    "    \n",
    "    p = Process(target=func, args=(num, q))\n",
    "    p.start()\n",
    "    p.join()\n",
    "\n",
    "    while not q.empty():\n",
    "        print(q.get())\n"
   ]
  },
  {
   "cell_type": "markdown",
   "metadata": {},
   "source": [
    "Multi Processing using Pipe\n",
    "2 way communication"
   ]
  },
  {
   "cell_type": "code",
   "execution_count": 1,
   "metadata": {},
   "outputs": [
    {
     "name": "stdout",
     "output_type": "stream",
     "text": [
      "[42, None, 'hello']\n"
     ]
    }
   ],
   "source": [
    "from multiprocessing import Process, Pipe\n",
    "\n",
    "def f(conn):\n",
    "    conn.send([42, None, 'hello'])\n",
    "    conn.close()\n",
    "\n",
    "if __name__ == '__main__':\n",
    "    parent_conn, child_conn = Pipe()\n",
    "    p = Process(target=f, args=(child_conn,))\n",
    "    p.start()\n",
    "    print(parent_conn.recv())   # prints \"[42, None, 'hello']\"\n",
    "    p.join()"
   ]
  },
  {
   "cell_type": "markdown",
   "metadata": {},
   "source": [
    "LOCKS for critical sections"
   ]
  },
  {
   "cell_type": "code",
   "execution_count": 19,
   "metadata": {},
   "outputs": [
    {
     "name": "stdout",
     "output_type": "stream",
     "text": [
      "balance rem is :  250\n"
     ]
    },
    {
     "name": "stdout",
     "output_type": "stream",
     "text": [
      "after discount balance is :  1250\n"
     ]
    }
   ],
   "source": [
    "from multiprocessing import Process, Pipe, Value,Lock\n",
    "import time\n",
    "\n",
    "\n",
    "def discount(conn,balance):\n",
    "\n",
    "    \n",
    "    disbalance = balance.value+1000\n",
    "    conn.send(disbalance)\n",
    "    conn.close()\n",
    "\n",
    "def withdraw(balance,lock):\n",
    "    time.sleep(0.001)\n",
    "    lock.acquire()\n",
    "    for i in range(100):\n",
    "        balance.value-=1\n",
    "        \n",
    "    lock.release()\n",
    "\n",
    "def deposit(balacne,lock):\n",
    "\n",
    "    lock.acquire()\n",
    "    time.sleep(0.001)\n",
    "    for i in range(50):\n",
    "        balance.value+=1\n",
    "\n",
    "    lock.release()\n",
    "\n",
    "\n",
    "\n",
    "if __name__ == '__main__':\n",
    "    \n",
    "    balance = Value('i',300)\n",
    "    lock = Lock()\n",
    "    p1 = Process(target = deposit, args = (balance,lock))\n",
    "    p2 = Process(target = withdraw, args = (balance,lock))\n",
    "\n",
    "    p1.start()\n",
    "    p2.start()\n",
    "    #p2.start() \n",
    "\n",
    "    p1.join()\n",
    "    p2.join()\n",
    "    \n",
    "    print(\"balance rem is : \", balance.value)\n",
    "\n",
    "\n",
    "    P_conn, C_conn = Pipe()\n",
    "    p3 = Process(target = discount,args = (C_conn,balance))\n",
    "    p3.start()\n",
    "    print(\"after discount balance is : \",P_conn.recv())\n",
    "\n",
    "    p3.join()\n",
    "\n",
    "\n"
   ]
  },
  {
   "cell_type": "markdown",
   "metadata": {},
   "source": [
    "async"
   ]
  },
  {
   "cell_type": "code",
   "execution_count": null,
   "metadata": {},
   "outputs": [],
   "source": []
  },
  {
   "cell_type": "code",
   "execution_count": 32,
   "metadata": {},
   "outputs": [
    {
     "name": "stdout",
     "output_type": "stream",
     "text": [
      "Headings from https://www.example.com:\n",
      "H1:\n",
      "  - Example Domain\n",
      "\n",
      "Headings from https://www.python.org:\n",
      "H1:\n",
      "  - \n",
      "\n",
      "\n",
      "  - Functions Defined\n",
      "  - Compound Data Types\n",
      "  - Intuitive Interpretation\n",
      "  - All the Flow You’d Expect\n",
      "  - Quick & Easy to Learn\n",
      "H2:\n",
      "  - Get Started\n",
      "  - Download\n",
      "  - Docs\n",
      "  - Jobs\n",
      "  - Latest News\n",
      "  - Upcoming Events\n",
      "  - Success Stories\n",
      "  - Use Python for…\n",
      "  - \n",
      ">>> Python Enhancement Proposals (PEPs): The future of Python is discussed here.\n",
      " RSS\n",
      "\n",
      "  - \n",
      ">>> Python Software Foundation\n",
      "\n",
      "\n",
      "Headings from https://www.github.com:\n",
      "H1:\n",
      "  - Search code, repositories, users, issues, pull requests...\n",
      "  - \n",
      "        Provide feedback\n",
      "      \n",
      "  - \n",
      "        Saved searches\n",
      "      \n",
      "  - \n",
      "Let’s build from here\n",
      "\n",
      "H2:\n",
      "  - Navigation Menu\n",
      "  - Use saved searches to filter your results more quickly\n",
      "  - Productivity\n",
      "  - GitHub Copilot empowers developers to complete tasks 55% faster with contextualized AI coding assistance across workflows.\n",
      "  - Application security\n",
      "  - GitHub Advanced Security enables you to find and fix vulnerabilities with ease and ship secure code quickly.\n",
      "  - Collaboration\n",
      "  - GitHub Issues and GitHub Projects supply project management tools that adapt to your team alongside your code.\n",
      "  - Over 100 million developers call GitHub home3\n",
      "  - Site-wide Links\n",
      "H3:\n",
      "  - \n",
      "Accelerate innovation\n",
      "        Our AI-powered platform increases the pace of software development.\n",
      "      \n",
      "  - 22% increase\n",
      "  - \n",
      "Empower developers With GitHub, you can secure code in minutes.\n",
      "      \n",
      "  - 7x faster\n",
      "  - \n",
      "Supercharge collaboration\n",
      "        GitHub helps your teams work more efficiently together.\n",
      "      \n",
      "  - 80%\n",
      "  - Subscribe to our developer newsletter\n",
      "  - \n",
      "          Product\n",
      "        \n",
      "  - \n",
      "          Platform\n",
      "        \n",
      "  - \n",
      "          Support\n",
      "        \n",
      "  - \n",
      "          Company\n",
      "        \n",
      "\n",
      "Headings from https://www.wikipedia.org:\n",
      "H1:\n",
      "  - \n",
      "\n",
      "Wikipedia\n",
      "\n",
      "The Free Encyclopedia\n",
      "\n",
      "H2:\n",
      "  - \n",
      "\n",
      "\n",
      "\n",
      "1,000,000+\n",
      "\n",
      "\n",
      "articles\n",
      "\n",
      "\n",
      "\n",
      "\n",
      "  - \n",
      "\n",
      "\n",
      "\n",
      "100,000+\n",
      "\n",
      "\n",
      "articles\n",
      "\n",
      "\n",
      "\n",
      "\n",
      "  - \n",
      "\n",
      "\n",
      "\n",
      "10,000+\n",
      "\n",
      "\n",
      "articles\n",
      "\n",
      "\n",
      "\n",
      "\n",
      "  - \n",
      "\n",
      "\n",
      "\n",
      "1,000+\n",
      "\n",
      "\n",
      "articles\n",
      "\n",
      "\n",
      "\n",
      "\n",
      "  - \n",
      "\n",
      "\n",
      "\n",
      "100+\n",
      "\n",
      "\n",
      "articles\n",
      "\n",
      "\n",
      "\n",
      "\n",
      "\n"
     ]
    },
    {
     "name": "stderr",
     "output_type": "stream",
     "text": [
      "/home/de/.local/lib/python3.10/site-packages/bs4/element.py:955: RuntimeWarning: coroutine 'main' was never awaited\n",
      "  u.setup()\n",
      "RuntimeWarning: Enable tracemalloc to get the object allocation traceback\n"
     ]
    }
   ],
   "source": [
    "import asyncio\n",
    "import aiohttp\n",
    "from bs4 import BeautifulSoup\n",
    "import time\n",
    "\n",
    "async def fetch(session, url):\n",
    "    async with session.get(url) as response:\n",
    "        content = await response.text()\n",
    "        return url, content\n",
    "\n",
    "async def extract_headings(content):\n",
    "    soup = BeautifulSoup(content, 'html.parser')\n",
    "    headings = {\n",
    "        'h1': [h1.get_text() for h1 in soup.find_all('h1')],\n",
    "        'h2': [h2.get_text() for h2 in soup.find_all('h2')],\n",
    "        'h3': [h3.get_text() for h3 in soup.find_all('h3')],\n",
    "        'h4': [h4.get_text() for h4 in soup.find_all('h4')],\n",
    "        'h5': [h5.get_text() for h5 in soup.find_all('h5')],\n",
    "        'h6': [h6.get_text() for h6 in soup.find_all('h6')]\n",
    "    }\n",
    "    return headings\n",
    "\n",
    "async def main():\n",
    "    urls = [\n",
    "        'https://www.youtube.com',\n",
    "        'https://www.python.org',\n",
    "        'https://www.github.com',\n",
    "        'https://www.wikipedia.org'\n",
    "    ]\n",
    "\n",
    "    async with aiohttp.ClientSession() as session:\n",
    "        tasks = [fetch(session, url) for url in urls]\n",
    "        results = await asyncio.gather(*tasks)\n",
    "\n",
    "        extract_tasks = [extract_headings(content) for url, content in results]\n",
    "        extracted_headings = await asyncio.gather(*extract_tasks)\n",
    "\n",
    "    for (url, content), headings in zip(results, extracted_headings):\n",
    "        print(f\"Headings from {url}:\")\n",
    "        for tag, texts in headings.items():\n",
    "            if texts:\n",
    "                print(f\"{tag.upper()}:\")\n",
    "                for text in texts:\n",
    "                    print(f\"  - {text}\")\n",
    "        print()\n",
    "\n",
    "\n",
    "loop = asyncio.get_event_loop()\n",
    "if loop.is_running():\n",
    "    task = loop.create_task(main())\n",
    "    await task\n",
    "else:\n",
    "    asyncio.run(main())\n"
   ]
  },
  {
   "cell_type": "markdown",
   "metadata": {},
   "source": [
    "Dunders method,\n",
    "\n",
    "Dunder methods, short for \"double underscore\" methods, are special methods in Python that begin and end with double underscores (e.g., __init__, __str__). They are used to define how objects of a class behave with built-in Python operations and functions. These methods allow you to customize the behavior of your objects in various contexts."
   ]
  },
  {
   "cell_type": "code",
   "execution_count": 34,
   "metadata": {},
   "outputs": [
    {
     "name": "stdout",
     "output_type": "stream",
     "text": [
      "MyClass(10)\n",
      "10\n",
      "MyClass(30)\n",
      "False\n",
      "2\n",
      "30\n"
     ]
    }
   ],
   "source": [
    "class MyClass:\n",
    "    def __init__(self, value):\n",
    "        self.value = value\n",
    "\n",
    "    def __repr__(self):\n",
    "        return f\"MyClass({self.value})\"\n",
    "\n",
    "    def __str__(self):\n",
    "        return str(self.value)\n",
    "\n",
    "    def __add__(self, other):\n",
    "        return MyClass(self.value + other.value)\n",
    "\n",
    "    def __eq__(self, other):\n",
    "        return self.value == other.value\n",
    "\n",
    "    def __len__(self):\n",
    "        return len(str(self.value))\n",
    "\n",
    "    def __call__(self, new_value):\n",
    "        self.value = new_value\n",
    "\n",
    "obj1 = MyClass(10)\n",
    "obj2 = MyClass(20)\n",
    "\n",
    "print(repr(obj1))\n",
    "print(str(obj1))\n",
    "\n",
    "result = obj1 + obj2\n",
    "print(repr(result))\n",
    "\n",
    "print(obj1 == obj2)\n",
    "print(len(obj1))\n",
    "\n",
    "obj1(30)\n",
    "print(obj1)\n"
   ]
  },
  {
   "cell_type": "markdown",
   "metadata": {},
   "source": [
    "Garbage collection \n",
    "\n",
    "Garbage collection in Python is the process of automatically reclaiming memory by deleting objects that are no longer in use. Python’s garbage collector primarily uses reference counting and a cyclic garbage collector to manage memory."
   ]
  },
  {
   "cell_type": "code",
   "execution_count": 36,
   "metadata": {},
   "outputs": [
    {
     "name": "stdout",
     "output_type": "stream",
     "text": [
      "Object A created\n",
      "Object B created\n",
      "Object C created\n",
      "Object A deleted\n",
      "Object B deleted\n",
      "Object C deleted\n"
     ]
    },
    {
     "data": {
      "text/plain": [
       "13"
      ]
     },
     "execution_count": 36,
     "metadata": {},
     "output_type": "execute_result"
    }
   ],
   "source": [
    "import gc\n",
    "\n",
    "class MyClass:\n",
    "    def __init__(self, name):\n",
    "        self.name = name\n",
    "        print(f\"Object {self.name} created\")\n",
    "\n",
    "    def __del__(self):\n",
    "        print(f\"Object {self.name} deleted\")\n",
    "\n",
    "def create_objects():\n",
    "    obj1 = MyClass(\"A\")\n",
    "    obj2 = MyClass(\"B\")\n",
    "    obj3 = MyClass(\"C\")\n",
    "    \n",
    "    obj1.ref = obj2\n",
    "    obj2.ref = obj3\n",
    "    obj3.ref = obj1\n",
    "\n",
    "    del obj1\n",
    "    del obj2\n",
    "    del obj3\n",
    "\n",
    "create_objects()\n",
    "gc.collect()  \n",
    "\n"
   ]
  }
 ],
 "metadata": {
  "kernelspec": {
   "display_name": "Python 3",
   "language": "python",
   "name": "python3"
  },
  "language_info": {
   "codemirror_mode": {
    "name": "ipython",
    "version": 3
   },
   "file_extension": ".py",
   "mimetype": "text/x-python",
   "name": "python",
   "nbconvert_exporter": "python",
   "pygments_lexer": "ipython3",
   "version": "3.10.12"
  }
 },
 "nbformat": 4,
 "nbformat_minor": 2
}
