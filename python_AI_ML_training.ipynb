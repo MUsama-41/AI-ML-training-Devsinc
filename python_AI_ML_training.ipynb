{
  "nbformat": 4,
  "nbformat_minor": 0,
  "metadata": {
    "colab": {
      "provenance": []
    },
    "kernelspec": {
      "name": "python3",
      "display_name": "Python 3"
    },
    "language_info": {
      "name": "python"
    }
  },
  "cells": [
    {
      "cell_type": "markdown",
      "source": [
        "# Python a dynamic interpreter\n",
        "which interpretes code line by line and throws type error when particular line is executed and it has type error...in following example, if 'a' given to function is greater than 0 than no error would occured else if a is negative than it would throw error on else"
      ],
      "metadata": {
        "id": "i44n4LJ_cbka"
      }
    },
    {
      "cell_type": "code",
      "execution_count": 24,
      "metadata": {
        "colab": {
          "base_uri": "https://localhost:8080/",
          "height": 298
        },
        "id": "ILnjDpnua5PQ",
        "outputId": "bb38f8e6-3582-4cb7-f900-f9c747482bad"
      },
      "outputs": [
        {
          "output_type": "error",
          "ename": "TypeError",
          "evalue": "can only concatenate str (not \"int\") to str",
          "traceback": [
            "\u001b[0;31m---------------------------------------------------------------------------\u001b[0m",
            "\u001b[0;31mTypeError\u001b[0m                                 Traceback (most recent call last)",
            "\u001b[0;32m<ipython-input-24-f9a447d03f2d>\u001b[0m in \u001b[0;36m<cell line: 7>\u001b[0;34m()\u001b[0m\n\u001b[1;32m      5\u001b[0m         \u001b[0mprint\u001b[0m\u001b[0;34m(\u001b[0m\u001b[0;34m\"3\"\u001b[0m \u001b[0;34m+\u001b[0m \u001b[0;36m5\u001b[0m\u001b[0;34m)\u001b[0m\u001b[0;34m\u001b[0m\u001b[0;34m\u001b[0m\u001b[0m\n\u001b[1;32m      6\u001b[0m \u001b[0;34m\u001b[0m\u001b[0m\n\u001b[0;32m----> 7\u001b[0;31m \u001b[0mfoo\u001b[0m\u001b[0;34m(\u001b[0m\u001b[0;34m-\u001b[0m\u001b[0;36m1\u001b[0m\u001b[0;34m)\u001b[0m\u001b[0;34m\u001b[0m\u001b[0;34m\u001b[0m\u001b[0m\n\u001b[0m",
            "\u001b[0;32m<ipython-input-24-f9a447d03f2d>\u001b[0m in \u001b[0;36mfoo\u001b[0;34m(a)\u001b[0m\n\u001b[1;32m      3\u001b[0m         \u001b[0mprint\u001b[0m\u001b[0;34m(\u001b[0m\u001b[0;34m'Hi'\u001b[0m\u001b[0;34m)\u001b[0m\u001b[0;34m\u001b[0m\u001b[0;34m\u001b[0m\u001b[0m\n\u001b[1;32m      4\u001b[0m     \u001b[0;32melse\u001b[0m\u001b[0;34m:\u001b[0m\u001b[0;34m\u001b[0m\u001b[0;34m\u001b[0m\u001b[0m\n\u001b[0;32m----> 5\u001b[0;31m         \u001b[0mprint\u001b[0m\u001b[0;34m(\u001b[0m\u001b[0;34m\"3\"\u001b[0m \u001b[0;34m+\u001b[0m \u001b[0;36m5\u001b[0m\u001b[0;34m)\u001b[0m\u001b[0;34m\u001b[0m\u001b[0;34m\u001b[0m\u001b[0m\n\u001b[0m\u001b[1;32m      6\u001b[0m \u001b[0;34m\u001b[0m\u001b[0m\n\u001b[1;32m      7\u001b[0m \u001b[0mfoo\u001b[0m\u001b[0;34m(\u001b[0m\u001b[0;34m-\u001b[0m\u001b[0;36m1\u001b[0m\u001b[0;34m)\u001b[0m\u001b[0;34m\u001b[0m\u001b[0;34m\u001b[0m\u001b[0m\n",
            "\u001b[0;31mTypeError\u001b[0m: can only concatenate str (not \"int\") to str"
          ]
        }
      ],
      "source": [
        "def foo(a):\n",
        "    if a > 0:\n",
        "        print('Hi')\n",
        "    else:\n",
        "        print(\"3\" + 5)\n",
        "\n",
        "foo(-1)"
      ]
    },
    {
      "cell_type": "markdown",
      "source": [
        "# Global Variable\n",
        "although global variable can be accessed in any scope but while changing value for global variable is challengin, we have to use 'global' Keyword while refereing to global variable"
      ],
      "metadata": {
        "id": "nJT0Yq8ddzk3"
      }
    },
    {
      "cell_type": "code",
      "source": [
        " x = \"awesome\"\n",
        "\n",
        "def myfunc():\n",
        "  global x\n",
        "  x = \"fantastic\"\n",
        "\n",
        "myfunc()\n",
        "\n",
        "print(\"Python is \" + x)"
      ],
      "metadata": {
        "colab": {
          "base_uri": "https://localhost:8080/"
        },
        "id": "u7vh_PIceIKX",
        "outputId": "28b9648e-7355-4fd9-d186-25d9ea0bc765"
      },
      "execution_count": 25,
      "outputs": [
        {
          "output_type": "stream",
          "name": "stdout",
          "text": [
            "Python is fantastic\n"
          ]
        }
      ]
    },
    {
      "cell_type": "markdown",
      "source": [
        "# Operators along with controle structures\n",
        "Arithmetic operators\n",
        "Comparison operators\n",
        "Logical operators\n",
        "Bitwise operators\n",
        "Assignment operators\n",
        "Specials operators\n",
        "\n",
        "if/else, for loop and while loop"
      ],
      "metadata": {
        "id": "5k_4XSqZjU3X"
      }
    },
    {
      "cell_type": "code",
      "source": [
        "numbers = [1, 3, 5, 7, 9]\n",
        "\n",
        "count_equal = 0\n",
        "count_greater = 0\n",
        "count_less = 0\n",
        "count_greater_equal = 0\n",
        "count_less_equal = 0\n",
        "\n",
        "threshold = 5\n",
        "\n",
        "for num in numbers:\n",
        "    if num == threshold:\n",
        "        print(num, '==', threshold, 'is True')\n",
        "        count_equal += 1\n",
        "\n",
        "    if num != threshold:\n",
        "        print(num, '!=', threshold, 'is True')\n",
        "\n",
        "    if num > threshold:\n",
        "        print(num, '>', threshold, 'is True')\n",
        "        count_greater += 1\n",
        "\n",
        "    if num < threshold:\n",
        "        print(num, '<', threshold, 'is True')\n",
        "        count_less += 1\n",
        "\n",
        "    if num >= threshold:\n",
        "        print(num, '>=', threshold, 'is True')\n",
        "        count_greater_equal += 1\n",
        "\n",
        "    if num <= threshold:\n",
        "        print(num, '<=', threshold, 'is True')\n",
        "        count_less_equal += 1\n",
        "\n",
        "i = 0\n",
        "print(\"\\nResults of counts:\")\n",
        "while i < len(numbers):\n",
        "    print('Number of elements equal to', threshold, ':', count_equal)\n",
        "    print('Number of elements greater than', threshold, ':', count_greater)\n",
        "    print('Number of elements less than', threshold, ':', count_less)\n",
        "    print('Number of elements greater than or equal to', threshold, ':', count_greater_equal)\n",
        "    print('Number of elements less than or equal to', threshold, ':', count_less_equal)\n",
        "    i += 1\n"
      ],
      "metadata": {
        "colab": {
          "base_uri": "https://localhost:8080/"
        },
        "id": "5IYLzzUaeIkJ",
        "outputId": "6e74b9d7-bb4a-451e-e46a-90bce3a42e0c"
      },
      "execution_count": 1,
      "outputs": [
        {
          "output_type": "stream",
          "name": "stdout",
          "text": [
            "1 != 5 is True\n",
            "1 < 5 is True\n",
            "1 <= 5 is True\n",
            "3 != 5 is True\n",
            "3 < 5 is True\n",
            "3 <= 5 is True\n",
            "5 == 5 is True\n",
            "5 >= 5 is True\n",
            "5 <= 5 is True\n",
            "7 != 5 is True\n",
            "7 > 5 is True\n",
            "7 >= 5 is True\n",
            "9 != 5 is True\n",
            "9 > 5 is True\n",
            "9 >= 5 is True\n",
            "\n",
            "Results of counts:\n",
            "Number of elements equal to 5 : 1\n",
            "Number of elements greater than 5 : 2\n",
            "Number of elements less than 5 : 2\n",
            "Number of elements greater than or equal to 5 : 3\n",
            "Number of elements less than or equal to 5 : 3\n",
            "Number of elements equal to 5 : 1\n",
            "Number of elements greater than 5 : 2\n",
            "Number of elements less than 5 : 2\n",
            "Number of elements greater than or equal to 5 : 3\n",
            "Number of elements less than or equal to 5 : 3\n",
            "Number of elements equal to 5 : 1\n",
            "Number of elements greater than 5 : 2\n",
            "Number of elements less than 5 : 2\n",
            "Number of elements greater than or equal to 5 : 3\n",
            "Number of elements less than or equal to 5 : 3\n",
            "Number of elements equal to 5 : 1\n",
            "Number of elements greater than 5 : 2\n",
            "Number of elements less than 5 : 2\n",
            "Number of elements greater than or equal to 5 : 3\n",
            "Number of elements less than or equal to 5 : 3\n",
            "Number of elements equal to 5 : 1\n",
            "Number of elements greater than 5 : 2\n",
            "Number of elements less than 5 : 2\n",
            "Number of elements greater than or equal to 5 : 3\n",
            "Number of elements less than or equal to 5 : 3\n"
          ]
        }
      ]
    },
    {
      "cell_type": "markdown",
      "source": [
        "# Exception Handling"
      ],
      "metadata": {
        "id": "a848wqHhlTg8"
      }
    },
    {
      "cell_type": "code",
      "source": [
        "try:\n",
        "    result = 10 / 0\n",
        "except ZeroDivisionError:\n",
        "    print(\"Error: Cannot divide by zero.\")\n"
      ],
      "metadata": {
        "colab": {
          "base_uri": "https://localhost:8080/"
        },
        "id": "s5TnZel-lWXc",
        "outputId": "a81675ef-0052-4869-eaad-d56fac127c7b"
      },
      "execution_count": 2,
      "outputs": [
        {
          "output_type": "stream",
          "name": "stdout",
          "text": [
            "Error: Cannot divide by zero.\n"
          ]
        }
      ]
    },
    {
      "cell_type": "code",
      "source": [
        "try:\n",
        "    print(\"in try\")\n",
        "    result = 10 / 0\n",
        "\n",
        "except ZeroDivisionError:\n",
        "    print(\"Error: Cannot divide by zero.\")\n",
        "else:\n",
        "    print(\"The result is:\", result)\n"
      ],
      "metadata": {
        "colab": {
          "base_uri": "https://localhost:8080/"
        },
        "id": "GqZ7dUIXlY12",
        "outputId": "13bc04ec-7415-40ec-e67c-c2f40eca154c"
      },
      "execution_count": 7,
      "outputs": [
        {
          "output_type": "stream",
          "name": "stdout",
          "text": [
            "in try\n",
            "Error: Cannot divide by zero.\n"
          ]
        }
      ]
    },
    {
      "cell_type": "code",
      "source": [
        "try:\n",
        "    print(\"in try\")\n",
        "    result = 10 / 0\n",
        "except ZeroDivisionError:\n",
        "    print(\"Error: Cannot divide by zero.\")\n",
        "else:\n",
        "    print(\"The result is:\", result)\n",
        "finally:\n",
        "    print(\"This block always executes.\")\n"
      ],
      "metadata": {
        "colab": {
          "base_uri": "https://localhost:8080/"
        },
        "id": "TV2qzKeJlhkB",
        "outputId": "11181e30-cecc-4c4b-93dd-085afceb65e5"
      },
      "execution_count": 10,
      "outputs": [
        {
          "output_type": "stream",
          "name": "stdout",
          "text": [
            "in try\n",
            "Error: Cannot divide by zero.\n",
            "This block always executes.\n"
          ]
        }
      ]
    },
    {
      "cell_type": "markdown",
      "source": [
        "# Partial functions"
      ],
      "metadata": {
        "id": "6kIJ3VVunys2"
      }
    },
    {
      "cell_type": "code",
      "source": [
        "from functools import partial\n",
        "\n",
        "def power(base, exponent, mod):\n",
        "    return (base ** exponent) % mod\n",
        "\n",
        "power_mod_100 = partial(power, mod=100)\n",
        "\n",
        "print(power_mod_100(2, 3))\n",
        "print(power_mod_100(5, 4))\n",
        "\n",
        "\n"
      ],
      "metadata": {
        "colab": {
          "base_uri": "https://localhost:8080/"
        },
        "id": "8QEcR9Gvn1V5",
        "outputId": "63748dfc-475c-4bd5-9fc9-4edccd85f24a"
      },
      "execution_count": 19,
      "outputs": [
        {
          "output_type": "stream",
          "name": "stdout",
          "text": [
            "8\n",
            "25\n"
          ]
        }
      ]
    },
    {
      "cell_type": "code",
      "source": [
        "from functools import partial\n",
        "\n",
        "def power(base, exponent, mod):\n",
        "    return (base ** exponent) % mod\n",
        "\n",
        "# Fix both 'exponent' and 'mod'\n",
        "power_with_exponent_and_mod = partial(power, exponent=3, mod=100)\n",
        "\n",
        "print(power_with_exponent_and_mod(2))\n",
        "print(power_with_exponent_and_mod(5))\n"
      ],
      "metadata": {
        "colab": {
          "base_uri": "https://localhost:8080/"
        },
        "id": "sndioif1p1-U",
        "outputId": "8ec26bef-db31-4835-fd71-cd213c918a50"
      },
      "execution_count": 26,
      "outputs": [
        {
          "output_type": "stream",
          "name": "stdout",
          "text": [
            "8\n",
            "25\n"
          ]
        }
      ]
    },
    {
      "cell_type": "code",
      "source": [],
      "metadata": {
        "id": "2sOIjAXQr4Il"
      },
      "execution_count": null,
      "outputs": []
    },
    {
      "cell_type": "markdown",
      "source": [
        "# lambda function\n",
        "they are unnammed and limited to single expression"
      ],
      "metadata": {
        "id": "rWgr2VR3r3l3"
      }
    },
    {
      "cell_type": "code",
      "source": [
        "# Traditional function\n",
        "def add(x, y):\n",
        "    return x + y\n",
        "\n",
        "add_lambda = lambda x, y: x + y\n",
        "\n",
        "print(add_lambda(3, 5))"
      ],
      "metadata": {
        "colab": {
          "base_uri": "https://localhost:8080/"
        },
        "id": "CYpLW60HpODh",
        "outputId": "e087a341-5aaa-40aa-f13e-abe6222b678d"
      },
      "execution_count": 27,
      "outputs": [
        {
          "output_type": "stream",
          "name": "stdout",
          "text": [
            "8\n"
          ]
        }
      ]
    },
    {
      "cell_type": "markdown",
      "source": [
        "# lambda with map\n",
        "map apply given function to all items in an iterable"
      ],
      "metadata": {
        "id": "NqVdu1clttiM"
      }
    },
    {
      "cell_type": "code",
      "source": [
        "numbers = [1, 2, 3, 4, 5]\n",
        "squared_numbers = list(map(lambda x: x ** 2, numbers))\n",
        "\n",
        "print(squared_numbers)\n"
      ],
      "metadata": {
        "colab": {
          "base_uri": "https://localhost:8080/"
        },
        "id": "z8-QNYRdxwC7",
        "outputId": "ddc281d6-32e0-47d6-d52e-75edf0c3a49a"
      },
      "execution_count": 20,
      "outputs": [
        {
          "output_type": "stream",
          "name": "stdout",
          "text": [
            "[1, 4, 9, 16, 25]\n"
          ]
        }
      ]
    },
    {
      "cell_type": "code",
      "source": [
        "numbers = [1, 2, 3, 4, 5]\n",
        "even_numbers = list(filter(lambda x: x % 2 == 0, numbers))\n",
        "\n",
        "print(even_numbers)\n"
      ],
      "metadata": {
        "colab": {
          "base_uri": "https://localhost:8080/"
        },
        "id": "nlhl9kOiyIdr",
        "outputId": "72c48939-e3b2-4c14-ba6d-2bc2a3701e2d"
      },
      "execution_count": 23,
      "outputs": [
        {
          "output_type": "stream",
          "name": "stdout",
          "text": [
            "[2, 4]\n"
          ]
        }
      ]
    }
  ]
}