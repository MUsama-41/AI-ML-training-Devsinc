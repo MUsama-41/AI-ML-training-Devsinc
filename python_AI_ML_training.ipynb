{
  "nbformat": 4,
  "nbformat_minor": 0,
  "metadata": {
    "colab": {
      "provenance": []
    },
    "kernelspec": {
      "name": "python3",
      "display_name": "Python 3"
    },
    "language_info": {
      "name": "python"
    }
  },
  "cells": [
    {
      "cell_type": "markdown",
      "source": [
        "# Python a dynamic interpreter\n",
        "which interpretes code line by line and throws type error when particular line is executed and it has type error...in following example, if 'a' given to function is greater than 0 than no error would occured else if a is negative than it would throw error on else"
      ],
      "metadata": {
        "id": "i44n4LJ_cbka"
      }
    },
    {
      "cell_type": "code",
      "execution_count": null,
      "metadata": {
        "colab": {
          "base_uri": "https://localhost:8080/",
          "height": 298
        },
        "id": "ILnjDpnua5PQ",
        "outputId": "bb38f8e6-3582-4cb7-f900-f9c747482bad"
      },
      "outputs": [
        {
          "output_type": "error",
          "ename": "TypeError",
          "evalue": "can only concatenate str (not \"int\") to str",
          "traceback": [
            "\u001b[0;31m---------------------------------------------------------------------------\u001b[0m",
            "\u001b[0;31mTypeError\u001b[0m                                 Traceback (most recent call last)",
            "\u001b[0;32m<ipython-input-24-f9a447d03f2d>\u001b[0m in \u001b[0;36m<cell line: 7>\u001b[0;34m()\u001b[0m\n\u001b[1;32m      5\u001b[0m         \u001b[0mprint\u001b[0m\u001b[0;34m(\u001b[0m\u001b[0;34m\"3\"\u001b[0m \u001b[0;34m+\u001b[0m \u001b[0;36m5\u001b[0m\u001b[0;34m)\u001b[0m\u001b[0;34m\u001b[0m\u001b[0;34m\u001b[0m\u001b[0m\n\u001b[1;32m      6\u001b[0m \u001b[0;34m\u001b[0m\u001b[0m\n\u001b[0;32m----> 7\u001b[0;31m \u001b[0mfoo\u001b[0m\u001b[0;34m(\u001b[0m\u001b[0;34m-\u001b[0m\u001b[0;36m1\u001b[0m\u001b[0;34m)\u001b[0m\u001b[0;34m\u001b[0m\u001b[0;34m\u001b[0m\u001b[0m\n\u001b[0m",
            "\u001b[0;32m<ipython-input-24-f9a447d03f2d>\u001b[0m in \u001b[0;36mfoo\u001b[0;34m(a)\u001b[0m\n\u001b[1;32m      3\u001b[0m         \u001b[0mprint\u001b[0m\u001b[0;34m(\u001b[0m\u001b[0;34m'Hi'\u001b[0m\u001b[0;34m)\u001b[0m\u001b[0;34m\u001b[0m\u001b[0;34m\u001b[0m\u001b[0m\n\u001b[1;32m      4\u001b[0m     \u001b[0;32melse\u001b[0m\u001b[0;34m:\u001b[0m\u001b[0;34m\u001b[0m\u001b[0;34m\u001b[0m\u001b[0m\n\u001b[0;32m----> 5\u001b[0;31m         \u001b[0mprint\u001b[0m\u001b[0;34m(\u001b[0m\u001b[0;34m\"3\"\u001b[0m \u001b[0;34m+\u001b[0m \u001b[0;36m5\u001b[0m\u001b[0;34m)\u001b[0m\u001b[0;34m\u001b[0m\u001b[0;34m\u001b[0m\u001b[0m\n\u001b[0m\u001b[1;32m      6\u001b[0m \u001b[0;34m\u001b[0m\u001b[0m\n\u001b[1;32m      7\u001b[0m \u001b[0mfoo\u001b[0m\u001b[0;34m(\u001b[0m\u001b[0;34m-\u001b[0m\u001b[0;36m1\u001b[0m\u001b[0;34m)\u001b[0m\u001b[0;34m\u001b[0m\u001b[0;34m\u001b[0m\u001b[0m\n",
            "\u001b[0;31mTypeError\u001b[0m: can only concatenate str (not \"int\") to str"
          ]
        }
      ],
      "source": [
        "def foo(a):\n",
        "    if a > 0:\n",
        "        print('Hi')\n",
        "    else:\n",
        "        print(\"3\" + 5)\n",
        "\n",
        "foo(-1)"
      ]
    },
    {
      "cell_type": "markdown",
      "source": [
        "# Global Variable\n",
        "although global variable can be accessed in any scope but while changing value for global variable is challengin, we have to use 'global' Keyword while refereing to global variable"
      ],
      "metadata": {
        "id": "nJT0Yq8ddzk3"
      }
    },
    {
      "cell_type": "code",
      "source": [
        " x = \"awesome\"\n",
        "\n",
        "def myfunc():\n",
        "  global x\n",
        "  x = \"fantastic\"\n",
        "\n",
        "myfunc()\n",
        "\n",
        "print(\"Python is \" + x)"
      ],
      "metadata": {
        "colab": {
          "base_uri": "https://localhost:8080/"
        },
        "id": "u7vh_PIceIKX",
        "outputId": "28b9648e-7355-4fd9-d186-25d9ea0bc765"
      },
      "execution_count": null,
      "outputs": [
        {
          "output_type": "stream",
          "name": "stdout",
          "text": [
            "Python is fantastic\n"
          ]
        }
      ]
    },
    {
      "cell_type": "markdown",
      "source": [
        "# Operators along with controle structures\n",
        "Arithmetic operators\n",
        "Comparison operators\n",
        "Logical operators\n",
        "Bitwise operators\n",
        "Assignment operators\n",
        "Specials operators\n",
        "\n",
        "if/else, for loop and while loop"
      ],
      "metadata": {
        "id": "5k_4XSqZjU3X"
      }
    },
    {
      "cell_type": "code",
      "source": [
        "numbers = [1, 3, 5, 7, 9]\n",
        "\n",
        "count_equal = 0\n",
        "count_greater = 0\n",
        "count_less = 0\n",
        "count_greater_equal = 0\n",
        "count_less_equal = 0\n",
        "\n",
        "threshold = 5\n",
        "\n",
        "for num in numbers:\n",
        "    if num == threshold:\n",
        "        print(num, '==', threshold, 'is True')\n",
        "        count_equal += 1\n",
        "\n",
        "    if num != threshold:\n",
        "        print(num, '!=', threshold, 'is True')\n",
        "\n",
        "    if num > threshold:\n",
        "        print(num, '>', threshold, 'is True')\n",
        "        count_greater += 1\n",
        "\n",
        "    if num < threshold:\n",
        "        print(num, '<', threshold, 'is True')\n",
        "        count_less += 1\n",
        "\n",
        "    if num >= threshold:\n",
        "        print(num, '>=', threshold, 'is True')\n",
        "        count_greater_equal += 1\n",
        "\n",
        "    if num <= threshold:\n",
        "        print(num, '<=', threshold, 'is True')\n",
        "        count_less_equal += 1\n",
        "\n",
        "i = 0\n",
        "print(\"\\nResults of counts:\")\n",
        "while i < len(numbers):\n",
        "    print('Number of elements equal to', threshold, ':', count_equal)\n",
        "    print('Number of elements greater than', threshold, ':', count_greater)\n",
        "    print('Number of elements less than', threshold, ':', count_less)\n",
        "    print('Number of elements greater than or equal to', threshold, ':', count_greater_equal)\n",
        "    print('Number of elements less than or equal to', threshold, ':', count_less_equal)\n",
        "    i += 1\n"
      ],
      "metadata": {
        "colab": {
          "base_uri": "https://localhost:8080/"
        },
        "id": "5IYLzzUaeIkJ",
        "outputId": "6e74b9d7-bb4a-451e-e46a-90bce3a42e0c"
      },
      "execution_count": null,
      "outputs": [
        {
          "output_type": "stream",
          "name": "stdout",
          "text": [
            "1 != 5 is True\n",
            "1 < 5 is True\n",
            "1 <= 5 is True\n",
            "3 != 5 is True\n",
            "3 < 5 is True\n",
            "3 <= 5 is True\n",
            "5 == 5 is True\n",
            "5 >= 5 is True\n",
            "5 <= 5 is True\n",
            "7 != 5 is True\n",
            "7 > 5 is True\n",
            "7 >= 5 is True\n",
            "9 != 5 is True\n",
            "9 > 5 is True\n",
            "9 >= 5 is True\n",
            "\n",
            "Results of counts:\n",
            "Number of elements equal to 5 : 1\n",
            "Number of elements greater than 5 : 2\n",
            "Number of elements less than 5 : 2\n",
            "Number of elements greater than or equal to 5 : 3\n",
            "Number of elements less than or equal to 5 : 3\n",
            "Number of elements equal to 5 : 1\n",
            "Number of elements greater than 5 : 2\n",
            "Number of elements less than 5 : 2\n",
            "Number of elements greater than or equal to 5 : 3\n",
            "Number of elements less than or equal to 5 : 3\n",
            "Number of elements equal to 5 : 1\n",
            "Number of elements greater than 5 : 2\n",
            "Number of elements less than 5 : 2\n",
            "Number of elements greater than or equal to 5 : 3\n",
            "Number of elements less than or equal to 5 : 3\n",
            "Number of elements equal to 5 : 1\n",
            "Number of elements greater than 5 : 2\n",
            "Number of elements less than 5 : 2\n",
            "Number of elements greater than or equal to 5 : 3\n",
            "Number of elements less than or equal to 5 : 3\n",
            "Number of elements equal to 5 : 1\n",
            "Number of elements greater than 5 : 2\n",
            "Number of elements less than 5 : 2\n",
            "Number of elements greater than or equal to 5 : 3\n",
            "Number of elements less than or equal to 5 : 3\n"
          ]
        }
      ]
    },
    {
      "cell_type": "markdown",
      "source": [
        "# Exception Handling"
      ],
      "metadata": {
        "id": "a848wqHhlTg8"
      }
    },
    {
      "cell_type": "code",
      "source": [
        "try:\n",
        "    result = 10 / 0\n",
        "except ZeroDivisionError:\n",
        "    print(\"Error: Cannot divide by zero.\")\n"
      ],
      "metadata": {
        "colab": {
          "base_uri": "https://localhost:8080/"
        },
        "id": "s5TnZel-lWXc",
        "outputId": "a81675ef-0052-4869-eaad-d56fac127c7b"
      },
      "execution_count": null,
      "outputs": [
        {
          "output_type": "stream",
          "name": "stdout",
          "text": [
            "Error: Cannot divide by zero.\n"
          ]
        }
      ]
    },
    {
      "cell_type": "code",
      "source": [
        "try:\n",
        "    print(\"in try\")\n",
        "    result = 10 / 0\n",
        "\n",
        "except ZeroDivisionError:\n",
        "    print(\"Error: Cannot divide by zero.\")\n",
        "else:\n",
        "    print(\"The result is:\", result)\n"
      ],
      "metadata": {
        "colab": {
          "base_uri": "https://localhost:8080/"
        },
        "id": "GqZ7dUIXlY12",
        "outputId": "13bc04ec-7415-40ec-e67c-c2f40eca154c"
      },
      "execution_count": null,
      "outputs": [
        {
          "output_type": "stream",
          "name": "stdout",
          "text": [
            "in try\n",
            "Error: Cannot divide by zero.\n"
          ]
        }
      ]
    },
    {
      "cell_type": "code",
      "source": [
        "try:\n",
        "    print(\"in try\")\n",
        "    result = 10 / 0\n",
        "except ZeroDivisionError:\n",
        "    print(\"Error: Cannot divide by zero.\")\n",
        "else:\n",
        "    print(\"The result is:\", result)\n",
        "finally:\n",
        "    print(\"This block always executes.\")\n"
      ],
      "metadata": {
        "colab": {
          "base_uri": "https://localhost:8080/"
        },
        "id": "TV2qzKeJlhkB",
        "outputId": "11181e30-cecc-4c4b-93dd-085afceb65e5"
      },
      "execution_count": null,
      "outputs": [
        {
          "output_type": "stream",
          "name": "stdout",
          "text": [
            "in try\n",
            "Error: Cannot divide by zero.\n",
            "This block always executes.\n"
          ]
        }
      ]
    },
    {
      "cell_type": "markdown",
      "source": [
        "# Partial functions"
      ],
      "metadata": {
        "id": "6kIJ3VVunys2"
      }
    },
    {
      "cell_type": "code",
      "source": [
        "from functools import partial\n",
        "\n",
        "def power(base, exponent, mod):\n",
        "    return (base ** exponent) % mod\n",
        "\n",
        "power_mod_100 = partial(power, mod=100)\n",
        "\n",
        "print(power_mod_100(2, 3))\n",
        "print(power_mod_100(5, 4))\n",
        "\n",
        "\n"
      ],
      "metadata": {
        "colab": {
          "base_uri": "https://localhost:8080/"
        },
        "id": "8QEcR9Gvn1V5",
        "outputId": "63748dfc-475c-4bd5-9fc9-4edccd85f24a"
      },
      "execution_count": null,
      "outputs": [
        {
          "output_type": "stream",
          "name": "stdout",
          "text": [
            "8\n",
            "25\n"
          ]
        }
      ]
    },
    {
      "cell_type": "code",
      "source": [
        "from functools import partial\n",
        "\n",
        "def power(base, exponent, mod):\n",
        "    return (base ** exponent) % mod\n",
        "\n",
        "# Fix both 'exponent' and 'mod'\n",
        "power_with_exponent_and_mod = partial(power, exponent=3, mod=100)\n",
        "\n",
        "print(power_with_exponent_and_mod(2))\n",
        "print(power_with_exponent_and_mod(5))\n"
      ],
      "metadata": {
        "colab": {
          "base_uri": "https://localhost:8080/"
        },
        "id": "sndioif1p1-U",
        "outputId": "8ec26bef-db31-4835-fd71-cd213c918a50"
      },
      "execution_count": null,
      "outputs": [
        {
          "output_type": "stream",
          "name": "stdout",
          "text": [
            "8\n",
            "25\n"
          ]
        }
      ]
    },
    {
      "cell_type": "code",
      "source": [],
      "metadata": {
        "id": "2sOIjAXQr4Il"
      },
      "execution_count": null,
      "outputs": []
    },
    {
      "cell_type": "markdown",
      "source": [
        "# lambda function\n",
        "they are unnammed and limited to single expression"
      ],
      "metadata": {
        "id": "rWgr2VR3r3l3"
      }
    },
    {
      "cell_type": "code",
      "source": [
        "# Traditional function\n",
        "def add(x, y):\n",
        "    return x + y\n",
        "\n",
        "add_lambda = lambda x, y: x + y\n",
        "\n",
        "print(add_lambda(3, 5))"
      ],
      "metadata": {
        "colab": {
          "base_uri": "https://localhost:8080/"
        },
        "id": "CYpLW60HpODh",
        "outputId": "e087a341-5aaa-40aa-f13e-abe6222b678d"
      },
      "execution_count": null,
      "outputs": [
        {
          "output_type": "stream",
          "name": "stdout",
          "text": [
            "8\n"
          ]
        }
      ]
    },
    {
      "cell_type": "markdown",
      "source": [
        "# lambda with map\n",
        "map apply given function to all items in an iterable"
      ],
      "metadata": {
        "id": "NqVdu1clttiM"
      }
    },
    {
      "cell_type": "code",
      "source": [
        "numbers = [1, 2, 3, 4, 5]\n",
        "squared_numbers = list(map(lambda x: x ** 2, numbers))\n",
        "\n",
        "print(squared_numbers)\n"
      ],
      "metadata": {
        "colab": {
          "base_uri": "https://localhost:8080/"
        },
        "id": "z8-QNYRdxwC7",
        "outputId": "ddc281d6-32e0-47d6-d52e-75edf0c3a49a"
      },
      "execution_count": null,
      "outputs": [
        {
          "output_type": "stream",
          "name": "stdout",
          "text": [
            "[1, 4, 9, 16, 25]\n"
          ]
        }
      ]
    },
    {
      "cell_type": "code",
      "source": [
        "numbers = [1, 2, 3, 4, 5]\n",
        "even_numbers = list(filter(lambda x: x % 2 == 0, numbers))\n",
        "\n",
        "print(even_numbers)\n"
      ],
      "metadata": {
        "colab": {
          "base_uri": "https://localhost:8080/"
        },
        "id": "nlhl9kOiyIdr",
        "outputId": "72c48939-e3b2-4c14-ba6d-2bc2a3701e2d"
      },
      "execution_count": null,
      "outputs": [
        {
          "output_type": "stream",
          "name": "stdout",
          "text": [
            "[2, 4]\n"
          ]
        }
      ]
    },
    {
      "cell_type": "markdown",
      "source": [
        "# LISTS\n",
        "spliting string and save into list"
      ],
      "metadata": {
        "id": "iDJoHIbhYbaB"
      }
    },
    {
      "cell_type": "code",
      "source": [
        "# Input the list as string\n",
        "string = input(\"Enter elements (Space-Separated): \")\n",
        "\n",
        "# Split the string and store it to a list\n",
        "lst = string.split()\n",
        "\n",
        "# Print the list\n",
        "print('The list is:', lst)"
      ],
      "metadata": {
        "colab": {
          "base_uri": "https://localhost:8080/"
        },
        "id": "EV8n19RgYhDc",
        "outputId": "48292baa-ca36-4c55-a318-dbb0d6ecc1cf"
      },
      "execution_count": null,
      "outputs": [
        {
          "output_type": "stream",
          "name": "stdout",
          "text": [
            "Enter elements (Space-Separated): My name is Usama\n",
            "The list is: ['My', 'name', 'is', 'Usama']\n"
          ]
        }
      ]
    },
    {
      "cell_type": "markdown",
      "source": [
        "# input string, strip() to remove leading and trailing white spaces\n"
      ],
      "metadata": {
        "id": "7szPe_BiZnnS"
      }
    },
    {
      "cell_type": "code",
      "source": [
        "# input size of the list\n",
        "n = int(input(\"Enter the size of list : \"))\n",
        "# store integers in a list using map,\n",
        "# split and strip functions\n",
        "lst = list(map(int, input(\"Enter the integer elements:\").strip().split()))[:n]\n",
        "\n",
        "# printing the list\n",
        "print('The list is:', lst)"
      ],
      "metadata": {
        "colab": {
          "base_uri": "https://localhost:8080/"
        },
        "id": "YPf7kNEjZ1ar",
        "outputId": "e9dd7dd9-1ff6-418c-e08b-f87ac6b62c88"
      },
      "execution_count": null,
      "outputs": [
        {
          "output_type": "stream",
          "name": "stdout",
          "text": [
            "Enter the size of list : 4\n",
            "Enter the integer elements:1               2 3          5\n",
            "The list is: [1, 2, 3, 5]\n"
          ]
        }
      ]
    },
    {
      "cell_type": "markdown",
      "source": [
        "# appeding tuple and list to list"
      ],
      "metadata": {
        "id": "rSJEhj7Fab0u"
      }
    },
    {
      "cell_type": "code",
      "source": [
        "\n",
        "List=[1,2,3,4]\n",
        "List.append((5,6))\n",
        "print(List)\n",
        "\n",
        "List.append(['usama','ASE'])\n",
        "print(List)\n"
      ],
      "metadata": {
        "colab": {
          "base_uri": "https://localhost:8080/"
        },
        "id": "ERs1dR4aae_W",
        "outputId": "124364f8-e802-4429-fcce-5806bd54fdfe"
      },
      "execution_count": null,
      "outputs": [
        {
          "output_type": "stream",
          "name": "stdout",
          "text": [
            "[1, 2, 3, 4, (5, 6)]\n",
            "[1, 2, 3, 4, (5, 6), ['usama', 'ASE']]\n"
          ]
        }
      ]
    },
    {
      "cell_type": "markdown",
      "source": [
        "# Alternate of append is insert to add data at desired location in list"
      ],
      "metadata": {
        "id": "rDCw_5_2cA8g"
      }
    },
    {
      "cell_type": "code",
      "source": [
        "List=[1,2,3,4]\n",
        "\n",
        "List.insert(3, 12)\n",
        "List.insert(0, 'Geeks')\n",
        "print(\"\\nList after performing Insert Operation: \")\n",
        "print(List)\n"
      ],
      "metadata": {
        "colab": {
          "base_uri": "https://localhost:8080/"
        },
        "id": "UKFk_EKOcGnW",
        "outputId": "90662e59-dd93-467d-9a69-5b2ef9a80f2a"
      },
      "execution_count": null,
      "outputs": [
        {
          "output_type": "stream",
          "name": "stdout",
          "text": [
            "\n",
            "List after performing Insert Operation: \n",
            "['Geeks', 1, 2, 3, 12, 4]\n"
          ]
        }
      ]
    },
    {
      "cell_type": "markdown",
      "source": [
        "append method cannot add data of different data types at once for this extend mehtod is used"
      ],
      "metadata": {
        "id": "JoHZb87CcaYD"
      }
    },
    {
      "cell_type": "code",
      "source": [
        "List = [1,2,3,4,5]\n",
        "List.extend([6,7,(9,10),'Usama'])\n",
        "List"
      ],
      "metadata": {
        "colab": {
          "base_uri": "https://localhost:8080/"
        },
        "id": "dyPcr4egcgBJ",
        "outputId": "959a43b5-d0f6-4c83-ce67-bb2ce7351c70"
      },
      "execution_count": null,
      "outputs": [
        {
          "output_type": "execute_result",
          "data": {
            "text/plain": [
              "[1, 2, 3, 4, 5, 6, 7, (9, 10), 'Usama']"
            ]
          },
          "metadata": {},
          "execution_count": 30
        }
      ]
    },
    {
      "cell_type": "markdown",
      "source": [
        "# POP vs remove"
      ],
      "metadata": {
        "id": "mP0FpkO-dI1i"
      }
    },
    {
      "cell_type": "code",
      "source": [
        "List.remove(5)\n",
        "List\n",
        "List.pop(6)\n",
        "List"
      ],
      "metadata": {
        "colab": {
          "base_uri": "https://localhost:8080/"
        },
        "id": "0Lk49-M1dLyi",
        "outputId": "7f5ffa90-ba97-4890-ef24-7ef9bcfdda27"
      },
      "execution_count": null,
      "outputs": [
        {
          "output_type": "execute_result",
          "data": {
            "text/plain": [
              "[1, 2, 3, 4, 6, 7, 'Usama']"
            ]
          },
          "metadata": {},
          "execution_count": 31
        }
      ]
    },
    {
      "cell_type": "markdown",
      "source": [
        "# Slicing"
      ],
      "metadata": {
        "id": "l5OOuHNjebzl"
      }
    },
    {
      "cell_type": "code",
      "source": [
        "# Creating a List\n",
        "List = ['G', 'E', 'E', 'K', 'S', 'F',\n",
        "        'O', 'R', 'G', 'E', 'E', 'K', 'S']\n",
        "print(\"Initial List: \")\n",
        "print(List)\n",
        "\n",
        "# Print elements from beginning\n",
        "# to a pre-defined point using Slice\n",
        "Sliced_List = List[:-6]\n",
        "print(\"\\nElements sliced till 6th element from last: \")\n",
        "print(Sliced_List)\n",
        "\n",
        "# Print elements of a range\n",
        "# using negative index List slicing\n",
        "Sliced_List = List[-6:-1]\n",
        "print(\"\\nElements sliced from index -6 to -1\")\n",
        "print(Sliced_List)\n",
        "\n",
        "# Printing elements in reverse\n",
        "# using Slice operation\n",
        "Sliced_List = List[::-1]\n",
        "print(\"\\nPrinting List in reverse: \")\n",
        "print(Sliced_List)"
      ],
      "metadata": {
        "colab": {
          "base_uri": "https://localhost:8080/"
        },
        "id": "A5mHCeRred6C",
        "outputId": "74ca2b57-5ef6-458e-95f1-0be6323edad7"
      },
      "execution_count": null,
      "outputs": [
        {
          "output_type": "stream",
          "name": "stdout",
          "text": [
            "Initial List: \n",
            "['G', 'E', 'E', 'K', 'S', 'F', 'O', 'R', 'G', 'E', 'E', 'K', 'S']\n",
            "\n",
            "Elements sliced till 6th element from last: \n",
            "['G', 'E', 'E', 'K', 'S', 'F', 'O']\n",
            "\n",
            "Elements sliced from index -6 to -1\n",
            "['R', 'G', 'E', 'E', 'K']\n",
            "\n",
            "Printing List in reverse: \n",
            "['S', 'K', 'E', 'E', 'G', 'R', 'O', 'F', 'S', 'K', 'E', 'E', 'G']\n"
          ]
        }
      ]
    },
    {
      "cell_type": "markdown",
      "source": [
        "# Built in function with LIST"
      ],
      "metadata": {
        "id": "YZN07cNlimui"
      }
    },
    {
      "cell_type": "code",
      "source": [
        "from functools import reduce\n",
        "\n",
        "numbers = [1, 2, 3, 4, 5]\n",
        "\n",
        "# sum()\n",
        "print(sum(numbers))\n",
        "\n",
        "# ord()\n",
        "print(ord('a'))\n",
        "\n",
        "# cmp() (custom function for Python 3)\n",
        "def cmp(a, b):\n",
        "    return (a > b) - (a < b)\n",
        "print(cmp([1, 2, 3], [1, 2, 4]))\n",
        "\n",
        "# max()\n",
        "print(max(numbers))\n",
        "\n",
        "# min()\n",
        "print(min(numbers))\n",
        "\n",
        "# all()\n",
        "print(all(numbers))\n",
        "\n",
        "# any()\n",
        "print(any(numbers))\n",
        "\n",
        "# len()\n",
        "print(len(numbers))\n",
        "\n",
        "# enumerate()\n",
        "print(list(enumerate(['a', 'b', 'c'])))\n",
        "\n",
        "# accumulate()\n",
        "from itertools import accumulate\n",
        "print(list(accumulate(numbers)))\n",
        "\n",
        "# filter()\n",
        "print(list(filter(lambda x: x > 2, numbers)))\n",
        "\n",
        "# map()\n",
        "print(list(map(lambda x: x * 2, numbers)))\n",
        "\n",
        "# lambda()\n",
        "add = lambda x, y: x + y\n",
        "print(add(3, 5))\n",
        "\n",
        "# reduce()\n",
        "print(reduce(lambda x, y: x + y, numbers))\n"
      ],
      "metadata": {
        "colab": {
          "base_uri": "https://localhost:8080/"
        },
        "id": "tDfETNdripnn",
        "outputId": "8658201f-0f32-49d4-8ece-5528836441fe"
      },
      "execution_count": null,
      "outputs": [
        {
          "output_type": "stream",
          "name": "stdout",
          "text": [
            "15\n",
            "97\n",
            "-1\n",
            "5\n",
            "1\n",
            "True\n",
            "True\n",
            "5\n",
            "[(0, 'a'), (1, 'b'), (2, 'c')]\n",
            "[1, 3, 6, 10, 15]\n",
            "[3, 4, 5]\n",
            "[2, 4, 6, 8, 10]\n",
            "8\n",
            "15\n"
          ]
        }
      ]
    },
    {
      "cell_type": "markdown",
      "source": [
        "# Tupple immuteable"
      ],
      "metadata": {
        "id": "shyPbBzamPS1"
      }
    },
    {
      "cell_type": "code",
      "source": [
        "t = (1, 2, 3, 4)\n",
        "print(t[1])\n",
        "print(t[-1])\n",
        "print(t[1:4])\n",
        "t1 = (1, 2, 3)\n",
        "t2 = (4, 5, 6)\n",
        "print(t1 + t2)\n",
        "print(t * 3)\n",
        "print(3 in t)\n",
        "print(5 in t)\n",
        "print(len(t))\n",
        "print(t.count(2))\n",
        "print(t.index(3))\n",
        "a, b, c, d = t\n",
        "print(a, b, c, d)\n",
        "t = (1, (2, 3), 4)\n",
        "print(t[1])\n",
        "print(t[1][0])\n",
        "t = (1,)\n",
        "print(t)\n",
        "t = (1, 2, 3)\n",
        "l = list(t)\n",
        "print(l)\n",
        "l2 = [4, 5, 6]\n",
        "t2 = tuple(l2)\n",
        "print(t2)\n"
      ],
      "metadata": {
        "colab": {
          "base_uri": "https://localhost:8080/",
          "height": 454
        },
        "id": "ppMVSBrFmUpu",
        "outputId": "11c8a4e8-8aec-49a0-d509-80ccf665f56b"
      },
      "execution_count": null,
      "outputs": [
        {
          "output_type": "stream",
          "name": "stdout",
          "text": [
            "2\n",
            "4\n",
            "(2, 3, 4)\n",
            "(1, 2, 3, 4, 5, 6)\n",
            "(1, 2, 3, 4, 1, 2, 3, 4, 1, 2, 3, 4)\n",
            "True\n",
            "False\n",
            "4\n",
            "1\n",
            "2\n",
            "1 2 3 4\n",
            "(2, 3)\n",
            "2\n",
            "(1,)\n"
          ]
        },
        {
          "output_type": "error",
          "ename": "TypeError",
          "evalue": "'list' object is not callable",
          "traceback": [
            "\u001b[0;31m---------------------------------------------------------------------------\u001b[0m",
            "\u001b[0;31mTypeError\u001b[0m                                 Traceback (most recent call last)",
            "\u001b[0;32m<ipython-input-44-e61dbd2d703a>\u001b[0m in \u001b[0;36m<cell line: 22>\u001b[0;34m()\u001b[0m\n\u001b[1;32m     20\u001b[0m \u001b[0mprint\u001b[0m\u001b[0;34m(\u001b[0m\u001b[0mt\u001b[0m\u001b[0;34m)\u001b[0m\u001b[0;34m\u001b[0m\u001b[0;34m\u001b[0m\u001b[0m\n\u001b[1;32m     21\u001b[0m \u001b[0mt\u001b[0m \u001b[0;34m=\u001b[0m \u001b[0;34m(\u001b[0m\u001b[0;36m1\u001b[0m\u001b[0;34m,\u001b[0m \u001b[0;36m2\u001b[0m\u001b[0;34m,\u001b[0m \u001b[0;36m3\u001b[0m\u001b[0;34m)\u001b[0m\u001b[0;34m\u001b[0m\u001b[0;34m\u001b[0m\u001b[0m\n\u001b[0;32m---> 22\u001b[0;31m \u001b[0ml\u001b[0m \u001b[0;34m=\u001b[0m \u001b[0mlist\u001b[0m\u001b[0;34m(\u001b[0m\u001b[0mt\u001b[0m\u001b[0;34m)\u001b[0m\u001b[0;34m\u001b[0m\u001b[0;34m\u001b[0m\u001b[0m\n\u001b[0m\u001b[1;32m     23\u001b[0m \u001b[0mprint\u001b[0m\u001b[0;34m(\u001b[0m\u001b[0ml\u001b[0m\u001b[0;34m)\u001b[0m\u001b[0;34m\u001b[0m\u001b[0;34m\u001b[0m\u001b[0m\n\u001b[1;32m     24\u001b[0m \u001b[0ml2\u001b[0m \u001b[0;34m=\u001b[0m \u001b[0;34m[\u001b[0m\u001b[0;36m4\u001b[0m\u001b[0;34m,\u001b[0m \u001b[0;36m5\u001b[0m\u001b[0;34m,\u001b[0m \u001b[0;36m6\u001b[0m\u001b[0;34m]\u001b[0m\u001b[0;34m\u001b[0m\u001b[0;34m\u001b[0m\u001b[0m\n",
            "\u001b[0;31mTypeError\u001b[0m: 'list' object is not callable"
          ]
        }
      ]
    },
    {
      "cell_type": "markdown",
      "source": [
        "# Sets\n",
        "sets memory is has base, sequence of storing sets elements cannot be defined"
      ],
      "metadata": {
        "id": "RDnT2iuUqnbf"
      }
    },
    {
      "cell_type": "code",
      "source": [
        "set1 = {1, 2, 3}\n",
        "set2 = {3, 4, 5}\n",
        "\n",
        "union_set = set1.union(set2)\n",
        "print(union_set)  # Output: {1, 2, 3, 4, 5}\n",
        "\n",
        "intersection_set = set1.intersection(set2)\n",
        "print(intersection_set)  # Output: {3}\n",
        "\n",
        "difference_set = set1.difference(set2)\n",
        "print(difference_set)  # Output: {1, 2}\n",
        "\n",
        "symmetric_difference_set = set1.symmetric_difference(set2)\n",
        "print(symmetric_difference_set)  # Output: {1, 2, 4, 5}\n",
        "\n",
        "set1.add(6)\n",
        "print(set1)  # Output: {1, 2, 3, 6}\n",
        "\n",
        "set1.remove(6)\n",
        "print(set1)  # Output: {1, 2, 3}\n",
        "\n",
        "set1.discard(2)\n",
        "print(set1)  # Output: {1, 3}\n",
        "\n",
        "set1.clear()\n",
        "print(set1)  # Output: set()\n",
        "\n",
        "is_subset = {1, 2}.issubset(set2)\n",
        "print(is_subset)  # Output: False\n",
        "\n",
        "is_superset = set2.issuperset({3, 4})\n",
        "print(is_superset)  # Output: True\n",
        "\n",
        "set1 = {1, 2, 3}\n",
        "set2 = {3, 4, 5}\n",
        "set3 = {1, 2}\n",
        "\n",
        "is_disjoint = set1.isdisjoint(set2)\n",
        "print(is_disjoint)  # Output: False\n",
        "\n",
        "is_disjoint = set1.isdisjoint(set3)\n",
        "print(is_disjoint)  # Output: True\n"
      ],
      "metadata": {
        "colab": {
          "base_uri": "https://localhost:8080/"
        },
        "id": "C3qaB3nFqmMw",
        "outputId": "c1cac16f-4f45-4da3-d61e-850a24e35dd5"
      },
      "execution_count": null,
      "outputs": [
        {
          "output_type": "stream",
          "name": "stdout",
          "text": [
            "{1, 2, 3, 4, 5}\n",
            "{3}\n",
            "{1, 2}\n",
            "{1, 2, 4, 5}\n",
            "{1, 2, 3, 6}\n",
            "{1, 2, 3}\n",
            "{1, 3}\n",
            "set()\n",
            "False\n",
            "True\n",
            "False\n",
            "False\n"
          ]
        }
      ]
    },
    {
      "cell_type": "markdown",
      "source": [
        "# Dictionary"
      ],
      "metadata": {
        "id": "cuNSabYVu8Gt"
      }
    },
    {
      "cell_type": "code",
      "source": [
        "my_dict = {'a': 1, 'b': 2, 'c': 3}\n",
        "\n",
        "# Adding a new key-value pair\n",
        "my_dict['d'] = 4\n",
        "print(my_dict)  # Output: {'a': 1, 'b': 2, 'c': 3, 'd': 4}\n",
        "\n",
        "# Updating an existing key's value\n",
        "my_dict['a'] = 10\n",
        "print(my_dict)  # Output: {'a': 10, 'b': 2, 'c': 3, 'd': 4}\n",
        "\n",
        "# Removing a key-value pair\n",
        "del my_dict['b']\n",
        "print(my_dict)  # Output: {'a': 10, 'c': 3, 'd': 4}\n",
        "\n",
        "# Accessing a value\n",
        "value = my_dict.get('c')\n",
        "print(value)  # Output: 3\n",
        "\n",
        "# Accessing a value with default if key does not exist\n",
        "value = my_dict.get('e', 'Not Found')\n",
        "print(value)  # Output: Not Found\n",
        "\n",
        "# Checking if a key exists\n",
        "exists = 'd' in my_dict\n",
        "print(exists)  # Output: True\n",
        "\n",
        "# Iterating over keys\n",
        "for key in my_dict:\n",
        "    print(key, my_dict[key])\n",
        "\n",
        "# Iterating over values\n",
        "for value in my_dict.values():\n",
        "    print(value)\n",
        "\n",
        "# Iterating over key-value pairs\n",
        "for key, value in my_dict.items():\n",
        "    print(key, value)\n",
        "\n",
        "# Copying the dictionary\n",
        "dict_copy = my_dict.copy()\n",
        "print(dict_copy)  # Output: {'a': 10, 'c': 3, 'd': 4}\n",
        "\n",
        "# Clearing the dictionary\n",
        "my_dict.clear()\n",
        "print(my_dict)  # Output: {}\n"
      ],
      "metadata": {
        "colab": {
          "base_uri": "https://localhost:8080/"
        },
        "id": "AKsNnKLlu-fM",
        "outputId": "07cb143e-7843-4db0-ed55-6b416f30057f"
      },
      "execution_count": null,
      "outputs": [
        {
          "output_type": "stream",
          "name": "stdout",
          "text": [
            "{'a': 1, 'b': 2, 'c': 3, 'd': 4}\n",
            "{'a': 10, 'b': 2, 'c': 3, 'd': 4}\n",
            "{'a': 10, 'c': 3, 'd': 4}\n",
            "3\n",
            "Not Found\n",
            "True\n",
            "a 10\n",
            "c 3\n",
            "d 4\n",
            "10\n",
            "3\n",
            "4\n",
            "a 10\n",
            "c 3\n",
            "d 4\n",
            "{'a': 10, 'c': 3, 'd': 4}\n",
            "{}\n"
          ]
        }
      ]
    },
    {
      "cell_type": "markdown",
      "source": [
        "#OOP in python"
      ],
      "metadata": {
        "id": "tbbSreHbx6bk"
      }
    },
    {
      "cell_type": "code",
      "source": [
        "class Car:\n",
        "  def __init__(self,name, milage):\n",
        "    self._name = name\n",
        "    self.milage = milage\n",
        "  # def description(self):\n",
        "  #   return f\"the {self.name} gives milage {self.milage}\"\n",
        "\n",
        "class BMW(Car):\n",
        "  def __init__(self,speed,name,milage):\n",
        "    super().__init__(name,milage)\n",
        "    self.speed = speed\n",
        "\n",
        "  def description(self):\n",
        "    return f\"{self._name} has average of {self.milage} and max speed of {self.speed}\"\n",
        "obj = BMW(100,\"honda\",\"20\")\n",
        "print(obj.description())\n"
      ],
      "metadata": {
        "colab": {
          "base_uri": "https://localhost:8080/"
        },
        "id": "2rK_r8LPyDen",
        "outputId": "624c945c-5db3-4626-b362-f09131c49f89"
      },
      "execution_count": null,
      "outputs": [
        {
          "output_type": "stream",
          "name": "stdout",
          "text": [
            "honda has average of 20 and max speed of 100\n"
          ]
        }
      ]
    },
    {
      "cell_type": "code",
      "source": [
        "class Vehicle:\n",
        "    def __init__(self, make, model):\n",
        "        self.make = make\n",
        "        self.model = model\n",
        "\n",
        "    def description(self):\n",
        "        return f\"{self.make} {self.model}\"\n",
        "\n",
        "class Car(Vehicle):\n",
        "    def __init__(self, make, model, num_doors):\n",
        "        super().__init__(make, model)\n",
        "        self.num_doors = num_doors\n",
        "\n",
        "    def description(self):\n",
        "        return f\"{self.make} {self.model} with {self.num_doors} doors\"\n",
        "\n",
        "class ElectricCar(Car):\n",
        "    def __init__(self, make, model, num_doors, battery_capacity):\n",
        "        super().__init__(make, model, num_doors)\n",
        "        self.battery_capacity = battery_capacity\n",
        "\n",
        "    def description(self):\n",
        "        return f\"{self.make} {self.model} with {self.num_doors} doors and {self.battery_capacity}kWh battery\"\n",
        "\n",
        "def print_vehicle_info(vehicle):\n",
        "    print(vehicle.description())\n",
        "\n",
        "# Creating instances\n",
        "vehicle = Vehicle(\"Toyota\", \"Camry\")\n",
        "car = Car(\"Honda\", \"Civic\", 4)\n",
        "electric_car = ElectricCar(\"Tesla\", \"Model S\", 4, 100)\n",
        "\n",
        "# Using the instances\n",
        "print_vehicle_info(vehicle)\n",
        "print_vehicle_info(car)\n",
        "print_vehicle_info(electric_car)\n"
      ],
      "metadata": {
        "colab": {
          "base_uri": "https://localhost:8080/"
        },
        "id": "scfIktSJLzB4",
        "outputId": "02658347-e1b3-49ce-a192-3338648ef6b8"
      },
      "execution_count": null,
      "outputs": [
        {
          "output_type": "stream",
          "name": "stdout",
          "text": [
            "Toyota Camry\n",
            "Honda Civic with 4 doors\n",
            "Tesla Model S with 4 doors and 100kWh battery\n"
          ]
        }
      ]
    },
    {
      "cell_type": "markdown",
      "source": [
        "# decorators"
      ],
      "metadata": {
        "id": "8GZhU6u2yGnw"
      }
    },
    {
      "cell_type": "code",
      "source": [
        "class decorator(object):\n",
        "  def __init__(self,func):\n",
        "    self.function = func;\n",
        "  def __call__(self, a,b):\n",
        "    result = self.function(a,b)\n",
        "    return result**2\n",
        "\n",
        "@decorator\n",
        "def add(a,b):\n",
        "  return a+b\n",
        "\n",
        "add(2,3)"
      ],
      "metadata": {
        "colab": {
          "base_uri": "https://localhost:8080/"
        },
        "id": "S4p8vBycyIwa",
        "outputId": "2bad83a1-a24e-481e-ed01-443d16901db9"
      },
      "execution_count": null,
      "outputs": [
        {
          "output_type": "execute_result",
          "data": {
            "text/plain": [
              "25"
            ]
          },
          "metadata": {},
          "execution_count": 4
        }
      ]
    },
    {
      "cell_type": "markdown",
      "source": [
        "# Iterator with class"
      ],
      "metadata": {
        "id": "sGjHfFL5qR3T"
      }
    },
    {
      "cell_type": "code",
      "source": [
        "class MyNumbers:\n",
        "  def __iter__(self):\n",
        "    self.a = 1\n",
        "    return self\n",
        "\n",
        "  def __next__(self):\n",
        "    if self.a <= 20:\n",
        "      x = self.a\n",
        "      self.a += 1\n",
        "      return x\n",
        "    else:\n",
        "      raise StopIteration\n",
        "\n",
        "myclass = MyNumbers()\n",
        "myiter = iter(myclass)\n",
        "print(next(myiter))\n",
        "print(next(myiter))\n",
        "# for x in myiter:\n",
        "#   print(x)"
      ],
      "metadata": {
        "colab": {
          "base_uri": "https://localhost:8080/"
        },
        "id": "hJrkMpQuqUw3",
        "outputId": "3d6cb60d-47ba-488d-ffa7-40ac69528e59"
      },
      "execution_count": null,
      "outputs": [
        {
          "output_type": "stream",
          "name": "stdout",
          "text": [
            "1\n",
            "2\n"
          ]
        }
      ]
    },
    {
      "cell_type": "markdown",
      "source": [
        "# Generators"
      ],
      "metadata": {
        "id": "XDCxgmxXuRdT"
      }
    },
    {
      "cell_type": "code",
      "source": [
        "def my_generator(n):\n",
        "\n",
        "    # initialize counter\n",
        "    value = 0\n",
        "\n",
        "    # loop until counter is less than n\n",
        "    while value < n:\n",
        "\n",
        "        # produce the current value of the counter\n",
        "        yield value\n",
        "\n",
        "        # increment the counter\n",
        "        value += 1\n",
        "\n",
        "# iterate over the generator object produced by my_generator\n",
        "#for value in my_generator(3):\n",
        "\n",
        "gen = my_generator(5)\n",
        "print(next(gen))\n",
        "print(next(gen))"
      ],
      "metadata": {
        "colab": {
          "base_uri": "https://localhost:8080/"
        },
        "id": "vpuqL8L8uTjt",
        "outputId": "90c87c51-8bac-4dce-aa37-a2fd0830eefa"
      },
      "execution_count": null,
      "outputs": [
        {
          "output_type": "stream",
          "name": "stdout",
          "text": [
            "0\n",
            "1\n"
          ]
        }
      ]
    },
    {
      "cell_type": "code",
      "source": [
        "def fibonacci_numbers(nums):\n",
        "    x, y = 0, 1\n",
        "    for _ in range(nums):\n",
        "        x, y = y, x+y\n",
        "        yield x\n",
        "\n",
        "def square(nums):\n",
        "    for num in nums:\n",
        "        yield num**2\n",
        "gen = square(fibonacci_numbers(10))\n",
        "print(next(gen))\n",
        "print(next(gen))\n",
        "print(next(gen))\n",
        "print(next(gen))\n",
        "print(next(gen))"
      ],
      "metadata": {
        "colab": {
          "base_uri": "https://localhost:8080/"
        },
        "id": "A9UJB2d7ugyl",
        "outputId": "f7034252-ce60-4d86-f06b-9e44cf44458e"
      },
      "execution_count": null,
      "outputs": [
        {
          "output_type": "stream",
          "name": "stdout",
          "text": [
            "1\n",
            "1\n",
            "4\n",
            "9\n",
            "25\n"
          ]
        }
      ]
    },
    {
      "cell_type": "markdown",
      "source": [
        "# NUMPY, matrices multiplication"
      ],
      "metadata": {
        "id": "NiltEG82q4KR"
      }
    },
    {
      "cell_type": "code",
      "source": [
        "import numpy as np\n",
        "from joblib import Parallel, delayed\n",
        "from time import time\n",
        "\n",
        "\n",
        "# Example matrices\n",
        "# A = np.array([[1, 2, 3], [4, 5, 6]])\n",
        "# B = np.array([[7, 8], [9, 10], [11, 12]])\n",
        "\n",
        "n=100\n",
        "A = np.random.rand(n,n)\n",
        "B = np.random.rand(n,n)\n",
        "\n",
        "c = np.zeros((n,n))\n",
        "\n",
        "s_time = time()\n",
        "for i in range(n):\n",
        "  row_a = A[i]\n",
        "  for j in range(n):\n",
        "    col_b = B[:,j]\n",
        "\n",
        "    entry = 0\n",
        "    for k in range(n):\n",
        "      entry += row_a[k]*col_b[k]\n",
        "      c[i,j] = entry\n",
        "e_time = time()\n",
        "\n",
        "t_for_loop = e_time - s_time\n",
        "print(\"time for for loop : \", t_for_loop)\n",
        "\n",
        "s_time = time()\n",
        "C2 = np.dot(A,B)\n",
        "e_time = time()\n",
        "\n",
        "t2 = e_time - s_time\n",
        "print(\"time with simple dot product\",t2)\n",
        "# print(\"Matrix A:\")\n",
        "# print(A)\n",
        "# print(\"Matrix B:\")\n",
        "# print(B)\n",
        "# print(\"Parallel dot product (A * B):\")\n",
        "# print(C)\n"
      ],
      "metadata": {
        "colab": {
          "base_uri": "https://localhost:8080/"
        },
        "id": "JBTNXNmjq7-m",
        "outputId": "7fcd3cf5-8fe6-45d0-ab31-e143dcd21b8d"
      },
      "execution_count": null,
      "outputs": [
        {
          "output_type": "stream",
          "name": "stdout",
          "text": [
            "time for for loop :  0.8437297344207764\n",
            "time with simple dot product 0.0018205642700195312\n"
          ]
        }
      ]
    },
    {
      "cell_type": "code",
      "source": [
        "from abc import ABC, abstractmethod\n",
        "import numpy as np\n",
        "from time import time\n",
        "\n",
        "class matrix_multiplication:\n",
        "\n",
        "  row_col_time = 0  #class attributes\n",
        "  vector_time = 0\n",
        "\n",
        "  def __init__(self, row, col):\n",
        "    self.row= row\n",
        "    self.col= col\n",
        "\n",
        "\n",
        "  def matrix_formation(self):\n",
        "    A = np.random.rand(self.row,self.col)\n",
        "    B = np.random.rand(self.row,self.col)\n",
        "    C = np.zeros((self.row,self.col))\n",
        "\n",
        "  @abstractmethod\n",
        "  def vector_product():\n",
        "    pass\n",
        "\n",
        "  @abstractmethod\n",
        "  def row_col_multiplication():\n",
        "    pass\n",
        "\n",
        "  @abstractmethod\n",
        "  def timefor_RC_method():\n",
        "    pass\n",
        "\n",
        "  @abstractmethod\n",
        "  def timeforvector():\n",
        "    pass\n",
        "\n",
        "class row_col(matrix_multiplication):\n",
        "\n",
        "  def __init(self,row,col):\n",
        "    super().__init__(row,col)\n",
        "\n",
        "\n",
        "  def row_col_multiplication(self):\n",
        "    s_time = time()\n",
        "    for i in range(self.row):\n",
        "      row_a = A[i]\n",
        "      for j in range(self.row):\n",
        "        col_b = B[:,j]\n",
        "\n",
        "        entry = 0\n",
        "        for k in range(self.row):\n",
        "          entry += row_a[k]*col_b[k]\n",
        "          c[i,j] = entry\n",
        "    e_time = time()\n",
        "    self.row_col_time=e_time-s_time\n",
        "\n",
        "\n",
        "  def timefor_RC_method(self):\n",
        "    return self.row_col_time\n",
        "\n",
        "\n",
        "\n",
        "\n",
        "class vector_multiplication(matrix_multiplication):\n",
        "  def __init__(self,row,col):\n",
        "    super().__init__(row,col)\n",
        "  def vector_product(self):\n",
        "    s_time = time()\n",
        "    C2 = np.dot(A,B)\n",
        "    e_time = time()\n",
        "    self.vector_time = e_time - s_time\n",
        "\n",
        "  def time_forvector(self):\n",
        "    return self.vector_time\n",
        "\n",
        "\n",
        "obj1 = row_col(100,100)\n",
        "obj1.matrix_formation()\n",
        "obj1.row_col_multiplication()\n",
        "print(\"time for Row column multiplication method : \",obj1.timefor_RC_method())\n",
        "\n",
        "\n",
        "\n",
        "obj = vector_multiplication(100,100)\n",
        "obj.matrix_formation()\n",
        "obj.vector_product()\n",
        "print(\"time for vector multiplication : \",obj.time_forvector())\n",
        "\n",
        "\n",
        "\n",
        "\n",
        "\n",
        "\n",
        "\n",
        "\n"
      ],
      "metadata": {
        "colab": {
          "base_uri": "https://localhost:8080/"
        },
        "id": "MUh0S3vy0UG1",
        "outputId": "86fa3487-2b2a-4a77-e116-e103b143d660"
      },
      "execution_count": null,
      "outputs": [
        {
          "output_type": "stream",
          "name": "stdout",
          "text": [
            "time for Row column multiplication method :  0.7906792163848877\n",
            "time for vector multiplication :  0.004514455795288086\n"
          ]
        }
      ]
    },
    {
      "cell_type": "code",
      "source": [],
      "metadata": {
        "id": "r1NbNXGl7gd-"
      },
      "execution_count": null,
      "outputs": []
    }
  ]
}