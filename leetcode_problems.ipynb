{
  "nbformat": 4,
  "nbformat_minor": 0,
  "metadata": {
    "colab": {
      "provenance": []
    },
    "kernelspec": {
      "name": "python3",
      "display_name": "Python 3"
    },
    "language_info": {
      "name": "python"
    }
  },
  "cells": [
    {
      "cell_type": "markdown",
      "source": [
        "# Two sum"
      ],
      "metadata": {
        "id": "gmLLnLfC0sVw"
      }
    },
    {
      "cell_type": "code",
      "execution_count": null,
      "metadata": {
        "colab": {
          "base_uri": "https://localhost:8080/"
        },
        "id": "2IFTEDMwtw2M",
        "outputId": "af69d19b-1e5d-4d68-9395-b877293e333f"
      },
      "outputs": [
        {
          "output_type": "stream",
          "name": "stdout",
          "text": [
            "(0, 1)\n"
          ]
        }
      ],
      "source": [
        "class Solution(object):\n",
        "    def twoSum(self, nums, target):\n",
        "        \"\"\"\n",
        "        :type nums: List[int]\n",
        "        :type target: int\n",
        "        :rtype: List[int]\n",
        "        \"\"\"\n",
        "        for i in range(len(nums)):\n",
        "            for j in range(i+1,len(nums)):\n",
        "                if nums[i]+nums[j]== target:\n",
        "                    return i,j\n",
        "\n",
        "solution = Solution()\n",
        "\n",
        "nums = [2,7,11,15]\n",
        "target = 9\n",
        "\n",
        "result = solution.twoSum(nums, target)\n",
        "\n",
        "print(result)"
      ]
    },
    {
      "cell_type": "markdown",
      "source": [],
      "metadata": {
        "id": "ZA1nB7Er1Zcu"
      }
    },
    {
      "cell_type": "code",
      "source": [
        "class Solution(object):\n",
        "    def reverse(self, x):\n",
        "        \"\"\"\n",
        "        :type x: int\n",
        "        :rtype: int\n",
        "        \"\"\"\n",
        "        str_x = str(x)\n",
        "\n",
        "        if str_x[0] == '-':\n",
        "            reversed_str = '-' + str_x[:0:-1]\n",
        "        else:\n",
        "            reversed_str = str_x[::-1]\n",
        "\n",
        "        reversed_num = int(reversed_str)\n",
        "\n",
        "        if reversed_num < -2**31 or reversed_num > 2**31 - 1:\n",
        "            return 0\n",
        "\n",
        "        return reversed_num\n",
        "\n",
        "solution = Solution()\n",
        "\n",
        "number = 123456\n",
        "\n",
        "reversed_number = solution.reverse(number)\n",
        "\n",
        "print(reversed_number)"
      ],
      "metadata": {
        "colab": {
          "base_uri": "https://localhost:8080/"
        },
        "id": "lMfntcFa1Y2C",
        "outputId": "b482e29d-0d31-4e3d-94d3-0fb0baa93e1f"
      },
      "execution_count": null,
      "outputs": [
        {
          "output_type": "stream",
          "name": "stdout",
          "text": [
            "654321\n"
          ]
        }
      ]
    },
    {
      "cell_type": "code",
      "source": [
        "class Solution(object):\n",
        "    def removeDuplicates(self, nums):\n",
        "        if not nums:\n",
        "            return 0\n",
        "\n",
        "        i = 0\n",
        "        for j in range(1, len(nums)):\n",
        "            if nums[i] != nums[j]:\n",
        "                i += 1\n",
        "                nums[i] = nums[j]\n",
        "\n",
        "        return i + 1\n",
        "\n",
        "solution = Solution()\n",
        "nums = [1, 1, 2, 2, 3]\n",
        "new_length = solution.removeDuplicates(nums)\n",
        "print(new_length)\n",
        "print(nums[:new_length])\n"
      ],
      "metadata": {
        "id": "PoW3idXeaxXt"
      },
      "execution_count": null,
      "outputs": []
    },
    {
      "cell_type": "markdown",
      "source": [
        "# detecting loop in cycle"
      ],
      "metadata": {
        "id": "_J7GCv2uLhyp"
      }
    },
    {
      "cell_type": "markdown",
      "source": [
        "# Finding intersection in 2 linked list"
      ],
      "metadata": {
        "id": "1lyh2zQHV8x3"
      }
    },
    {
      "cell_type": "code",
      "source": [
        "/**\n",
        " * Definition for singly-linked list.\n",
        " * struct ListNode {\n",
        " *     int val;\n",
        " *     ListNode *next;\n",
        " *     ListNode(int x) : val(x), next(NULL) {}\n",
        " * };\n",
        " */\n",
        "class Solution {\n",
        "public:\n",
        "    ListNode *getIntersectionNode(ListNode *headA, ListNode *headB) {\n",
        "\n",
        "    for (ListNode* tempA = headA; tempA != nullptr; tempA = tempA->next) {\n",
        "            for (ListNode* tempB = headB; tempB != nullptr; tempB = tempB->next) {\n",
        "                if (tempA == tempB) {\n",
        "                    return tempA;\n",
        "                }\n",
        "            }\n",
        "        }\n",
        "        return nullptr;\n",
        "    }\n",
        "};"
      ],
      "metadata": {
        "id": "CBv8GVerWBc4"
      },
      "execution_count": null,
      "outputs": []
    },
    {
      "cell_type": "markdown",
      "source": [
        "#Remove Nth node in a linked list"
      ],
      "metadata": {
        "id": "r0YXDZ1CWer2"
      }
    },
    {
      "cell_type": "code",
      "source": [
        "/**\n",
        " * Definition for singly-linked list.\n",
        " * struct ListNode {\n",
        " *     int val;\n",
        " *     ListNode *next;\n",
        " *     ListNode() : val(0), next(nullptr) {}\n",
        " *     ListNode(int x) : val(x), next(nullptr) {}\n",
        " *     ListNode(int x, ListNode *next) : val(x), next(next) {}\n",
        " * };\n",
        " */\n",
        "class Solution {\n",
        "public:\n",
        "    ListNode* removeNthFromEnd(ListNode* head, int n) {\n",
        "        ListNode* dummy = new ListNode(0);\n",
        "        dummy->next = head;\n",
        "        ListNode* first = dummy;\n",
        "        ListNode* second = dummy;\n",
        "\n",
        "        for (int i = 0; i <= n; ++i) {\n",
        "            first = first->next;\n",
        "        }\n",
        "\n",
        "        while (first != nullptr) {\n",
        "            first = first->next;\n",
        "            second = second->next;\n",
        "        }\n",
        "\n",
        "        ListNode* nodeToDelete = second->next;\n",
        "        second->next = second->next->next;\n",
        "        delete nodeToDelete;\n",
        "\n",
        "        ListNode* newHead = dummy->next;\n",
        "        delete dummy;\n",
        "\n",
        "        return newHead;\n",
        "    }\n",
        "};\n"
      ],
      "metadata": {
        "id": "fhw80pteWh_a"
      },
      "execution_count": null,
      "outputs": []
    }
  ]
}