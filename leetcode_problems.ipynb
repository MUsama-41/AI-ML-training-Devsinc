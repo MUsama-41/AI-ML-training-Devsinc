{
  "nbformat": 4,
  "nbformat_minor": 0,
  "metadata": {
    "colab": {
      "provenance": []
    },
    "kernelspec": {
      "name": "python3",
      "display_name": "Python 3"
    },
    "language_info": {
      "name": "python"
    }
  },
  "cells": [
    {
      "cell_type": "markdown",
      "source": [
        "# Two sum"
      ],
      "metadata": {
        "id": "gmLLnLfC0sVw"
      }
    },
    {
      "cell_type": "code",
      "execution_count": null,
      "metadata": {
        "colab": {
          "base_uri": "https://localhost:8080/"
        },
        "id": "2IFTEDMwtw2M",
        "outputId": "af69d19b-1e5d-4d68-9395-b877293e333f"
      },
      "outputs": [
        {
          "output_type": "stream",
          "name": "stdout",
          "text": [
            "(0, 1)\n"
          ]
        }
      ],
      "source": [
        "class Solution(object):\n",
        "    def twoSum(self, nums, target):\n",
        "        \"\"\"\n",
        "        :type nums: List[int]\n",
        "        :type target: int\n",
        "        :rtype: List[int]\n",
        "        \"\"\"\n",
        "        for i in range(len(nums)):\n",
        "            for j in range(i+1,len(nums)):\n",
        "                if nums[i]+nums[j]== target:\n",
        "                    return i,j\n",
        "\n",
        "solution = Solution()\n",
        "\n",
        "nums = [2,7,11,15]\n",
        "target = 9\n",
        "\n",
        "result = solution.twoSum(nums, target)\n",
        "\n",
        "print(result)"
      ]
    },
    {
      "cell_type": "markdown",
      "source": [],
      "metadata": {
        "id": "ZA1nB7Er1Zcu"
      }
    },
    {
      "cell_type": "code",
      "source": [
        "class Solution(object):\n",
        "    def reverse(self, x):\n",
        "        \"\"\"\n",
        "        :type x: int\n",
        "        :rtype: int\n",
        "        \"\"\"\n",
        "        str_x = str(x)\n",
        "\n",
        "        if str_x[0] == '-':\n",
        "            reversed_str = '-' + str_x[:0:-1]\n",
        "        else:\n",
        "            reversed_str = str_x[::-1]\n",
        "\n",
        "        reversed_num = int(reversed_str)\n",
        "\n",
        "        if reversed_num < -2**31 or reversed_num > 2**31 - 1:\n",
        "            return 0\n",
        "\n",
        "        return reversed_num\n",
        "\n",
        "solution = Solution()\n",
        "\n",
        "number = 123456\n",
        "\n",
        "reversed_number = solution.reverse(number)\n",
        "\n",
        "print(reversed_number)"
      ],
      "metadata": {
        "colab": {
          "base_uri": "https://localhost:8080/"
        },
        "id": "lMfntcFa1Y2C",
        "outputId": "b482e29d-0d31-4e3d-94d3-0fb0baa93e1f"
      },
      "execution_count": null,
      "outputs": [
        {
          "output_type": "stream",
          "name": "stdout",
          "text": [
            "654321\n"
          ]
        }
      ]
    },
    {
      "cell_type": "code",
      "source": [
        "class Solution(object):\n",
        "    def removeDuplicates(self, nums):\n",
        "        if not nums:\n",
        "            return 0\n",
        "\n",
        "        i = 0\n",
        "        for j in range(1, len(nums)):\n",
        "            if nums[i] != nums[j]:\n",
        "                i += 1\n",
        "                nums[i] = nums[j]\n",
        "\n",
        "        return i + 1\n",
        "\n",
        "solution = Solution()\n",
        "nums = [1, 1, 2, 2, 3]\n",
        "new_length = solution.removeDuplicates(nums)\n",
        "print(new_length)\n",
        "print(nums[:new_length])\n"
      ],
      "metadata": {
        "id": "PoW3idXeaxXt"
      },
      "execution_count": null,
      "outputs": []
    }
  ]
}